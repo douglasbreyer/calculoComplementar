{
 "cells": [
  {
   "cell_type": "markdown",
   "metadata": {},
   "source": [
    "# Integral Definida\n",
    "\n",
    " <img src='IntegralDefinida.png' />"
   ]
  },
  {
   "cell_type": "markdown",
   "metadata": {},
   "source": [
    "## Área Abaixo da Curva"
   ]
  },
  {
   "cell_type": "code",
   "execution_count": 12,
   "metadata": {},
   "outputs": [],
   "source": [
    "import numpy as np\n",
    "import matplotlib.pyplot as plt"
   ]
  },
  {
   "cell_type": "code",
   "execution_count": 13,
   "metadata": {},
   "outputs": [],
   "source": [
    "x=np.linspace(0,10,21)\n",
    "y=x**2-5*x+6"
   ]
  },
  {
   "cell_type": "code",
   "execution_count": 14,
   "metadata": {},
   "outputs": [
    {
     "data": {
      "image/png": "[encoded data removed]",
      "text/plain": [
       "<Figure size 864x288 with 2 Axes>"
      ]
     },
     "metadata": {
      "needs_background": "light"
     },
     "output_type": "display_data"
    }
   ],
   "source": [
    "fig, axes = plt.subplots(1,2, figsize=(12, 4))\n",
    "\n",
    "axes[0].plot(x, y)\n",
    "axes[0].set_xlabel('X')\n",
    "axes[0].set_ylabel('F(X)')\n",
    "axes[0].set_title(\"Função Quadrática\")\n",
    "\n",
    "axes[1].fill_between(x,y)\n",
    "axes[1].set_xlabel('X')\n",
    "axes[1].set_ylabel('F(X)')\n",
    "axes[1].set_title(\"Área Abaixo da Curva\")\n",
    "\n",
    "plt.show()"
   ]
  },
  {
   "cell_type": "markdown",
   "metadata": {},
   "source": [
    "# Ordem de aproximação\n",
    "## Regras de Newton-Cotes\n",
    "\n",
    "As regras abaixo são conhecidas como Fórmulas de Newton-Cotes, há dois tipos delas as abertas e as fechadas. A regra do ponto médio é uma fórmula de Newton-Cotes aberta. A regra trapezoidal e de Simpson são exemplos de uma categoria de métodos conhecida como fórmulas de Newton-Cotes fechada. A fórmula de Newton-Cotes é chamada fechada quando o conjunto de seus pontos incluem os extremos do intervalo de integração.\n",
    "\n",
    " <img src='Newton-Cotes.png'>\n",
    "\n",
    " <img src='Newton-Cotes1.png'>\n",
    "\n",
    " "
   ]
  },
  {
   "cell_type": "markdown",
   "metadata": {},
   "source": [
    "### Exemplo: Método Trapezoidal"
   ]
  },
  {
   "cell_type": "code",
   "execution_count": 15,
   "metadata": {},
   "outputs": [
    {
     "name": "stdout",
     "output_type": "stream",
     "text": [
      "143.33350000000002\n"
     ]
    }
   ],
   "source": [
    "def y(x):                #Função a ser integrada\n",
    "    return x**2-5*x+6\n",
    "\n",
    "N = 1000                    #número de pontos\n",
    "a=0.0                     #ponto inicial\n",
    "b=10.0                    #ponto final \n",
    "h=(b-a)/N                 #intervalo infinitesimal  \n",
    "\n",
    "constante = 0.5*(y(a)+y(b))\n",
    "soma=0\n",
    "for k in range(1,N):\n",
    "    soma +=y(a+k*h)\n",
    "\n",
    "I = h*(constante+soma)\n",
    "\n",
    "print (I)"
   ]
  },
  {
   "cell_type": "markdown",
   "metadata": {},
   "source": [
    "### Tarefa 1 - Implementar usando o método np.trapz()"
   ]
  },
  {
   "cell_type": "code",
   "execution_count": 16,
   "metadata": {},
   "outputs": [
    {
     "data": {
      "text/plain": [
       "143.333500333834"
      ]
     },
     "execution_count": 16,
     "metadata": {},
     "output_type": "execute_result"
    }
   ],
   "source": [
    "x=np.linspace(0,10,1000)\n",
    "y=y(x)\n",
    "np.trapz(y,x)"
   ]
  },
  {
   "cell_type": "markdown",
   "metadata": {},
   "source": [
    "### Tarefa 2 - Queda Livre\n",
    "Um corpo é abandonado de certa altura e atinge o solo após um determinado tempo. Utilize o arquivo \"Queda_livre.csv\", que apresenta a aceleração resultante do corpo em função do tempo de queda, e calcule o valor final da velocidade atingida pelo corpo.\n",
    "\n",
    "#### Calcule o valor final da velocidade atingida pelo corpo."
   ]
  },
  {
   "cell_type": "code",
   "execution_count": 17,
   "metadata": {},
   "outputs": [
    {
     "name": "stdout",
     "output_type": "stream",
     "text": [
      "6616.544593139666\n"
     ]
    }
   ],
   "source": [
    "import csv\n",
    "\n",
    "import numpy as np\n",
    "import matplotlib.pyplot as plt\n",
    "\n",
    "# tempo, aceleracao\n",
    "\n",
    "Data = []\n",
    "\n",
    "with open('Queda-livre.csv','r') as entrada:\n",
    "    ler = csv.reader(entrada)\n",
    "    next(ler)\n",
    "\n",
    "    for linha in ler:\n",
    "        for i in range(len(linha)):\n",
    "            linha[i] = float(linha[i])\n",
    "        Data.append(linha)\n",
    "\n",
    "\n",
    "\n",
    "tempo = []\n",
    "aceleracao = []\n",
    "\n",
    "for i in Data:\n",
    "\n",
    "    t, a = i\n",
    "    tempo.append(t)\n",
    "    aceleracao.append(a)\n",
    "\n",
    "N = len(tempo)\n",
    "a = tempo[0]\n",
    "b = tempo[N-1]\n",
    "h = (b-a)/N\n",
    "\n",
    "\n",
    "velocidade = np.empty(N)\n",
    "velocidade[0] = 0\n",
    "\n",
    "for k in range(1,N):\n",
    "    velocidade[k] = velocidade[k-1]+(aceleracao[k-1]+aceleracao[k])*(h/2)\n",
    "\n",
    "print(velocidade[k])"
   ]
  },
  {
   "cell_type": "markdown",
   "metadata": {},
   "source": [
    "### Tarefa 3 - Distância percorrida\n",
    "\n",
    "Escrever um programa em Python que lê o arquivo **velocities.txt**, e usando a regra trapezoidal, calcula a distância percorrida pela partícula no eixo x como função do tempo e plote, no mesmo gráfico da velocidade em função do tempo, a distância percorrida. Mais informações: http://www-personal.umich.edu/~mejn/computational-physics/\n",
    "\n",
    "Conjunto de dados que contém duas colunas numéricas, onde na primeira está o tempo, em segundos, e na segunda a velocidade no eixo x, em metros por segundos, de uma partícula.\n",
    "\n",
    " <img src='Figure-1.png' /></a>"
   ]
  },
  {
   "cell_type": "code",
   "execution_count": 18,
   "metadata": {},
   "outputs": [
    {
     "data": {
      "image/png": "[encoded data removed]",
      "text/plain": [
       "<Figure size 432x288 with 1 Axes>"
      ]
     },
     "metadata": {
      "needs_background": "light"
     },
     "output_type": "display_data"
    }
   ],
   "source": [
    "import numpy as np\n",
    "\n",
    "tempo,velocidade = np.loadtxt('velocities.txt',unpack=True)\n",
    "\n",
    "N = len(tempo)\n",
    "a = tempo[0]\n",
    "b = tempo[N-1]\n",
    "h = (b-a)/N\n",
    "\n",
    "distancia = np.empty(N)\n",
    "distancia[0] = 0\n",
    "\n",
    "for k in range(1,N):\n",
    "    distancia[k] = distancia[k-1]+(velocidade[k-1]+velocidade[k])*(h/2)\n",
    "    \n",
    "fig = plt.plot(figsize=(14,4))\n",
    "plt.plot(tempo, distancia, 'b', label=\"distancia\")\n",
    "plt.plot(tempo, velocidade, 'r', label=\"velocidade\")\n",
    "plt.xlabel(\"tempo [s]\")\n",
    "plt.legend()\n",
    "plt.show()"
   ]
  },
  {
   "cell_type": "markdown",
   "metadata": {},
   "source": [
    "### Usando o Numpy - Regra Trapezoidal\n",
    "\n",
    "\n"
   ]
  },
  {
   "cell_type": "code",
   "execution_count": 19,
   "metadata": {},
   "outputs": [
    {
     "name": "stdout",
     "output_type": "stream",
     "text": [
      "8.137548514851487\n"
     ]
    }
   ],
   "source": [
    "import numpy as np\n",
    "\n",
    "tempo,velocidade = np.loadtxt('velocities.txt',unpack=True)\n",
    "\n",
    "N = len(tempo)\n",
    "a = tempo[0]\n",
    "b = tempo[N-1]\n",
    "h = (b-a)/N\n",
    "\n",
    "#USANDO NUMPY\n",
    "distancia2=np.trapz(velocidade,dx=h)\n",
    "print(distancia2)"
   ]
  },
  {
   "cell_type": "markdown",
   "metadata": {},
   "source": [
    "### Usando o Scipy - Regra de Simpson"
   ]
  },
  {
   "cell_type": "code",
   "execution_count": 20,
   "metadata": {},
   "outputs": [
    {
     "name": "stdout",
     "output_type": "stream",
     "text": [
      "143.33333333333331\n"
     ]
    }
   ],
   "source": [
    "from scipy import integrate\n",
    "import numpy as np\n",
    "\n",
    "x = np.linspace(0,10,11)\n",
    "y=x**2-5*x+6\n",
    "\n",
    "N = 10\n",
    "a = tempo[0]\n",
    "b = 10\n",
    "h = (b-a)/N\n",
    "\n",
    "I2 = integrate.simps(y,dx=h) \n",
    "\n",
    "print(I2)"
   ]
  },
  {
   "cell_type": "markdown",
   "metadata": {},
   "source": [
    "### Usando o Scipy - INTEGRAL DUPLA"
   ]
  },
  {
   "cell_type": "code",
   "execution_count": null,
   "metadata": {},
   "outputs": [],
   "source": []
  }
 ],
 "metadata": {
  "kernelspec": {
   "display_name": "Python 3",
   "language": "python",
   "name": "python3"
  },
  "language_info": {
   "codemirror_mode": {
    "name": "ipython",
    "version": 3
   },
   "file_extension": ".py",
   "mimetype": "text/x-python",
   "name": "python",
   "nbconvert_exporter": "python",
   "pygments_lexer": "ipython3",
   "version": "3.6.8"
  }
 },
 "nbformat": 4,
 "nbformat_minor": 2
}
