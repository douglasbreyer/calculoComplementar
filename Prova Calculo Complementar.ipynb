{
 "cells": [
  {
   "cell_type": "markdown",
   "metadata": {},
   "source": [
    "Aluno: Douglas Davy Breyer - 1511100048"
   ]
  },
  {
   "cell_type": "markdown",
   "metadata": {},
   "source": [
    "Problema 01: Estima-se que a produção semanal de uma fábrica é dada pela função f(x,y) = 1.200x+ 500y+ x2 y – x\n",
    "3– y2 unidades, onde x é o número de operários especializados e y o número de operários não especializados utilizados no trabalho. No momento, a mão de obra disponível é constituída por 30 operários especializados e 60\n",
    "operários não especializados. Use a análise marginal para estimar a variação da produção se mais 1 operário especializado for contratado e o número de operários não especializado permanecer constante.\n",
    "Compreender o problema:\n",
    "\n",
    "• Através da leitura do problema extrair os dados e elementos desconhecidos.\n",
    "\n",
    "◦ Análise Marginal: em economia se refere ao uso de uma derivada para estimar a variação do valor de uma função em consequência de uma mudança no valor de uma das variáveis.\n",
    "\n",
    "◦ Taxa de Variação: calcular a função com uma das variáveis enquanto a outra permanece constante, o que corresponde a derivar a função em relação a uma das variáveis mantendo fixa a outra variável. Este processo é conhecido como derivação parcial; a derivada resultante é chamada de derivada parcial da função.\n",
    "\n",
    "• Determinar e interpretar os dados do problema. A fábrica possui operários especializados e não especializados para produção semanal em unidades.\n",
    "◦ A mão de obra disponível é constituída por 30 operários especializados.\n",
    "◦ 60 operários não especializados.\n",
    "• O objetivo do problema é determinar a variação da produção se mais 1 operário especializado for contratado e o número de operários não especializado permanecer constante. "
   ]
  },
  {
   "cell_type": "code",
   "execution_count": 2,
   "metadata": {},
   "outputs": [
    {
     "name": "stdout",
     "output_type": "stream",
     "text": [
      "Analise Marginal: 2100\n",
      "Taxa Variação: 2069\n"
     ]
    }
   ],
   "source": [
    "import numpy as np\n",
    "import pylab as plt\n",
    "import sympy as sp\n",
    "\n",
    "# x = num operarios especializados\n",
    "# y  = num de operarios não especializados \n",
    "# mão de obra disponível = 30 operarios especializados e 60 operarios não especializados\n",
    "\n",
    "x_teste, y_teste, z_teste = sp.symbols('x y z')\n",
    "f = 1200*x_teste + 500*y_teste + (x_teste**2)*y_teste - (x_teste**3) - y_teste**2\n",
    "\n",
    "\n",
    "derivada = sp.diff(f,x_teste)\n",
    "z = lambda x, y: eval(str(derivada))\n",
    "print('Analise Marginal:', z(30,60))\n",
    "\n",
    "\n",
    "fx = lambda x, y: 1200*x + 500*y + (x**2)*y - (x**3) - y**2\n",
    "print('Taxa Variação:', fx(30+1, 60) - fx(30,60))\n",
    "\n",
    "# Na taxa de variação cada unidade de x será mudada 2069 unidades de y"
   ]
  },
  {
   "cell_type": "markdown",
   "metadata": {},
   "source": [
    "Problema 02: Um empresário calcula que, quando xunidades de um certo produto são\n",
    "fabricadas, o lucro é dado por f(x) = - 400x2+ 6.800x-12.000 reais. Qual é a taxa de\n",
    "variação do lucro em relação ao nível de produção xquando estão sendo produzidas\n",
    "9.000 unidades? Justifique a resposta."
   ]
  },
  {
   "cell_type": "code",
   "execution_count": 3,
   "metadata": {},
   "outputs": [
    {
     "name": "stdout",
     "output_type": "stream",
     "text": [
      "6800 - 800*x\n",
      "-400\n"
     ]
    }
   ],
   "source": [
    "x = sp.symbols('x')\n",
    "d = sp.diff(-(400*(x**2)) + (6800*x) - (12000), x)\n",
    "print(d)\n",
    "z = lambda x: eval(str(d))\n",
    "resp = z(9)  \n",
    "print(resp)\n",
    "\n",
    "# Com a inclinação em -400 a inclinação é para baixo, ou seja, para nivel de produção 9000, o lucro diminui quando a produção aumenta"
   ]
  },
  {
   "cell_type": "markdown",
   "metadata": {},
   "source": [
    "Problema 03: ÁREA SUPERFICIAL DO CORPO HUMANO É dada pela expressão empírica S(W, H) = 0,0072W0,425 H 0,725 , onde W (Kg) e H(cm), são, respectivamente, o\n",
    "peso e a altura da pessoa. No momento, uma certa criança pesa 34Kg e tem 1m e 20cm de altura.\n",
    "• Determine os dados do problema.\n",
    "• Calcule as derivadas parciais Sw(50,163) e SH(50, 163) e interprete-as como taxas de variação.\n",
    "• Estime qual será a variação da área superficial se a criança engordar 1 Kg e altura permanecer inalterada. "
   ]
  },
  {
   "cell_type": "code",
   "execution_count": 8,
   "metadata": {},
   "outputs": [
    {
     "name": "stdout",
     "output_type": "stream",
     "text": [
      "Calcule as derivadas parciais: \n",
      "\n",
      "0.012961333555455532\n",
      "0.006782365086759479\n"
     ]
    }
   ],
   "source": [
    "x, h, w = sp.symbols('x h w')\n",
    "\n",
    "f = lambda h,w: 0.0072*w**0.425 * h**0.0725\n",
    "\n",
    "\n",
    "# 3 - B \n",
    "print('Calcule as derivadas parciais: \\n')\n",
    "\n",
    "fw = lambda w,h: (0.00306*w**(-0.575)) * h**0.725\n",
    "fh = lambda w,h: 0.00522*w**(0.425) * h**-(0.275)\n",
    "print(fw(50,163))\n",
    "print(fh(50,163))\n"
   ]
  },
  {
   "cell_type": "code",
   "execution_count": 10,
   "metadata": {},
   "outputs": [
    {
     "name": "stdout",
     "output_type": "stream",
     "text": [
      "Variação da área superficial: \n",
      "\n",
      "0.0004559273231530478\n"
     ]
    }
   ],
   "source": [
    "# 3 - C\n",
    "\n",
    "f1 = lambda w,h: (0.0072*w**0.425) * (h**0.725)\n",
    "print('Variação da área superficial: \\n')\n",
    "print(f1(35,1.20)-f1(34,1.20))"
   ]
  }
 ],
 "metadata": {
  "kernelspec": {
   "display_name": "Python 3",
   "language": "python",
   "name": "python3"
  },
  "language_info": {
   "codemirror_mode": {
    "name": "ipython",
    "version": 3
   },
   "file_extension": ".py",
   "mimetype": "text/x-python",
   "name": "python",
   "nbconvert_exporter": "python",
   "pygments_lexer": "ipython3",
   "version": "3.6.8"
  }
 },
 "nbformat": 4,
 "nbformat_minor": 2
}
